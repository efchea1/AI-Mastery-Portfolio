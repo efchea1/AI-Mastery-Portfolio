{
 "cells": [
  {
   "cell_type": "markdown",
   "id": "ab7ab925",
   "metadata": {},
   "source": [
    "Load the dataset\n"
   ]
  },
  {
   "cell_type": "code",
   "execution_count": 1,
   "id": "89008650",
   "metadata": {},
   "outputs": [],
   "source": [
    "import pandas as pd\n",
    "from pathlib import Path\n",
    "import pandas as pd\n",
    "import matplotlib.pyplot as plt"
   ]
  },
  {
   "cell_type": "code",
   "execution_count": 2,
   "id": "75195ee1",
   "metadata": {},
   "outputs": [
    {
     "data": {
      "text/html": [
       "<div>\n",
       "<style scoped>\n",
       "    .dataframe tbody tr th:only-of-type {\n",
       "        vertical-align: middle;\n",
       "    }\n",
       "\n",
       "    .dataframe tbody tr th {\n",
       "        vertical-align: top;\n",
       "    }\n",
       "\n",
       "    .dataframe thead th {\n",
       "        text-align: right;\n",
       "    }\n",
       "</style>\n",
       "<table border=\"1\" class=\"dataframe\">\n",
       "  <thead>\n",
       "    <tr style=\"text-align: right;\">\n",
       "      <th></th>\n",
       "      <th>YearStart</th>\n",
       "      <th>YearEnd</th>\n",
       "      <th>LocationAbbr</th>\n",
       "      <th>LocationDesc</th>\n",
       "      <th>Datasource</th>\n",
       "      <th>Class</th>\n",
       "      <th>Topic</th>\n",
       "      <th>Question</th>\n",
       "      <th>Data_Value_Unit</th>\n",
       "      <th>Data_Value_Type</th>\n",
       "      <th>...</th>\n",
       "      <th>GeoLocation</th>\n",
       "      <th>ClassID</th>\n",
       "      <th>TopicID</th>\n",
       "      <th>QuestionID</th>\n",
       "      <th>DataValueTypeID</th>\n",
       "      <th>LocationID</th>\n",
       "      <th>StratificationCategory1</th>\n",
       "      <th>Stratification1</th>\n",
       "      <th>StratificationCategoryId1</th>\n",
       "      <th>StratificationID1</th>\n",
       "    </tr>\n",
       "  </thead>\n",
       "  <tbody>\n",
       "    <tr>\n",
       "      <th>0</th>\n",
       "      <td>2011</td>\n",
       "      <td>2011</td>\n",
       "      <td>AK</td>\n",
       "      <td>Alaska</td>\n",
       "      <td>BRFSS</td>\n",
       "      <td>Obesity / Weight Status</td>\n",
       "      <td>Obesity / Weight Status</td>\n",
       "      <td>Percent of adults aged 18 years and older who ...</td>\n",
       "      <td>2011.0</td>\n",
       "      <td>Value</td>\n",
       "      <td>...</td>\n",
       "      <td>(64.845079957001, -147.722059036)</td>\n",
       "      <td>OWS</td>\n",
       "      <td>OWS1</td>\n",
       "      <td>Q036</td>\n",
       "      <td>VALUE</td>\n",
       "      <td>2</td>\n",
       "      <td>Race/Ethnicity</td>\n",
       "      <td>2 or more races</td>\n",
       "      <td>RACE</td>\n",
       "      <td>RACE2PLUS</td>\n",
       "    </tr>\n",
       "    <tr>\n",
       "      <th>1</th>\n",
       "      <td>2011</td>\n",
       "      <td>2011</td>\n",
       "      <td>AK</td>\n",
       "      <td>Alaska</td>\n",
       "      <td>BRFSS</td>\n",
       "      <td>Obesity / Weight Status</td>\n",
       "      <td>Obesity / Weight Status</td>\n",
       "      <td>Percent of adults aged 18 years and older who ...</td>\n",
       "      <td>2011.0</td>\n",
       "      <td>Value</td>\n",
       "      <td>...</td>\n",
       "      <td>(64.845079957001, -147.722059036)</td>\n",
       "      <td>OWS</td>\n",
       "      <td>OWS1</td>\n",
       "      <td>Q036</td>\n",
       "      <td>VALUE</td>\n",
       "      <td>2</td>\n",
       "      <td>Race/Ethnicity</td>\n",
       "      <td>Other</td>\n",
       "      <td>RACE</td>\n",
       "      <td>RACEOTH</td>\n",
       "    </tr>\n",
       "    <tr>\n",
       "      <th>2</th>\n",
       "      <td>2011</td>\n",
       "      <td>2011</td>\n",
       "      <td>AK</td>\n",
       "      <td>Alaska</td>\n",
       "      <td>BRFSS</td>\n",
       "      <td>Physical Activity</td>\n",
       "      <td>Physical Activity - Behavior</td>\n",
       "      <td>Percent of adults who achieve at least 150 min...</td>\n",
       "      <td>2011.0</td>\n",
       "      <td>Value</td>\n",
       "      <td>...</td>\n",
       "      <td>(64.845079957001, -147.722059036)</td>\n",
       "      <td>PA</td>\n",
       "      <td>PA1</td>\n",
       "      <td>Q044</td>\n",
       "      <td>VALUE</td>\n",
       "      <td>2</td>\n",
       "      <td>Sex</td>\n",
       "      <td>Female</td>\n",
       "      <td>SEX</td>\n",
       "      <td>FEMALE</td>\n",
       "    </tr>\n",
       "    <tr>\n",
       "      <th>3</th>\n",
       "      <td>2011</td>\n",
       "      <td>2011</td>\n",
       "      <td>AK</td>\n",
       "      <td>Alaska</td>\n",
       "      <td>BRFSS</td>\n",
       "      <td>Obesity / Weight Status</td>\n",
       "      <td>Obesity / Weight Status</td>\n",
       "      <td>Percent of adults aged 18 years and older who ...</td>\n",
       "      <td>2011.0</td>\n",
       "      <td>Value</td>\n",
       "      <td>...</td>\n",
       "      <td>(64.845079957001, -147.722059036)</td>\n",
       "      <td>OWS</td>\n",
       "      <td>OWS1</td>\n",
       "      <td>Q036</td>\n",
       "      <td>VALUE</td>\n",
       "      <td>2</td>\n",
       "      <td>Age (years)</td>\n",
       "      <td>35 - 44</td>\n",
       "      <td>AGEYR</td>\n",
       "      <td>AGEYR3544</td>\n",
       "    </tr>\n",
       "    <tr>\n",
       "      <th>4</th>\n",
       "      <td>2011</td>\n",
       "      <td>2011</td>\n",
       "      <td>AK</td>\n",
       "      <td>Alaska</td>\n",
       "      <td>BRFSS</td>\n",
       "      <td>Obesity / Weight Status</td>\n",
       "      <td>Obesity / Weight Status</td>\n",
       "      <td>Percent of adults aged 18 years and older who ...</td>\n",
       "      <td>2011.0</td>\n",
       "      <td>Value</td>\n",
       "      <td>...</td>\n",
       "      <td>(64.845079957001, -147.722059036)</td>\n",
       "      <td>OWS</td>\n",
       "      <td>OWS1</td>\n",
       "      <td>Q037</td>\n",
       "      <td>VALUE</td>\n",
       "      <td>2</td>\n",
       "      <td>Income</td>\n",
       "      <td>$15,000 - $24,999</td>\n",
       "      <td>INC</td>\n",
       "      <td>INC1525</td>\n",
       "    </tr>\n",
       "  </tbody>\n",
       "</table>\n",
       "<p>5 rows × 33 columns</p>\n",
       "</div>"
      ],
      "text/plain": [
       "   YearStart  YearEnd LocationAbbr LocationDesc Datasource  \\\n",
       "0       2011     2011           AK       Alaska      BRFSS   \n",
       "1       2011     2011           AK       Alaska      BRFSS   \n",
       "2       2011     2011           AK       Alaska      BRFSS   \n",
       "3       2011     2011           AK       Alaska      BRFSS   \n",
       "4       2011     2011           AK       Alaska      BRFSS   \n",
       "\n",
       "                     Class                         Topic  \\\n",
       "0  Obesity / Weight Status       Obesity / Weight Status   \n",
       "1  Obesity / Weight Status       Obesity / Weight Status   \n",
       "2        Physical Activity  Physical Activity - Behavior   \n",
       "3  Obesity / Weight Status       Obesity / Weight Status   \n",
       "4  Obesity / Weight Status       Obesity / Weight Status   \n",
       "\n",
       "                                            Question  Data_Value_Unit  \\\n",
       "0  Percent of adults aged 18 years and older who ...           2011.0   \n",
       "1  Percent of adults aged 18 years and older who ...           2011.0   \n",
       "2  Percent of adults who achieve at least 150 min...           2011.0   \n",
       "3  Percent of adults aged 18 years and older who ...           2011.0   \n",
       "4  Percent of adults aged 18 years and older who ...           2011.0   \n",
       "\n",
       "  Data_Value_Type  ...                        GeoLocation  ClassID TopicID  \\\n",
       "0           Value  ...  (64.845079957001, -147.722059036)      OWS    OWS1   \n",
       "1           Value  ...  (64.845079957001, -147.722059036)      OWS    OWS1   \n",
       "2           Value  ...  (64.845079957001, -147.722059036)       PA     PA1   \n",
       "3           Value  ...  (64.845079957001, -147.722059036)      OWS    OWS1   \n",
       "4           Value  ...  (64.845079957001, -147.722059036)      OWS    OWS1   \n",
       "\n",
       "  QuestionID  DataValueTypeID  LocationID  StratificationCategory1  \\\n",
       "0       Q036            VALUE           2           Race/Ethnicity   \n",
       "1       Q036            VALUE           2           Race/Ethnicity   \n",
       "2       Q044            VALUE           2                      Sex   \n",
       "3       Q036            VALUE           2              Age (years)   \n",
       "4       Q037            VALUE           2                   Income   \n",
       "\n",
       "     Stratification1 StratificationCategoryId1 StratificationID1  \n",
       "0    2 or more races                      RACE         RACE2PLUS  \n",
       "1              Other                      RACE           RACEOTH  \n",
       "2             Female                       SEX            FEMALE  \n",
       "3            35 - 44                     AGEYR         AGEYR3544  \n",
       "4  $15,000 - $24,999                       INC           INC1525  \n",
       "\n",
       "[5 rows x 33 columns]"
      ]
     },
     "execution_count": 2,
     "metadata": {},
     "output_type": "execute_result"
    }
   ],
   "source": [
    "# Path to data folder\n",
    "data_path = Path(\"../data\")\n",
    "csv_file = data_path / \"cdc_nutrition_obesity.csv\"\n",
    "\n",
    "# Read dataset\n",
    "df = pd.read_csv(csv_file)\n",
    "\n",
    "# Preview first rows\n",
    "df.head()"
   ]
  },
  {
   "cell_type": "code",
   "execution_count": 3,
   "id": "049a6dff",
   "metadata": {},
   "outputs": [
    {
     "name": "stdout",
     "output_type": "stream",
     "text": [
      "My BMI: 25.25\n"
     ]
    }
   ],
   "source": [
    "me = pd.read_csv(Path(\"../data/week1_results.csv\")).tail(1).iloc[0]\n",
    "my_bmi = me[\"BMI\"]\n",
    "print(\"My BMI:\", my_bmi)"
   ]
  },
  {
   "cell_type": "markdown",
   "id": "ce4b0f5e",
   "metadata": {},
   "source": [
    "Filter BMI-related data"
   ]
  },
  {
   "cell_type": "code",
   "execution_count": 4,
   "id": "e5c11706",
   "metadata": {},
   "outputs": [
    {
     "data": {
      "text/html": [
       "<div>\n",
       "<style scoped>\n",
       "    .dataframe tbody tr th:only-of-type {\n",
       "        vertical-align: middle;\n",
       "    }\n",
       "\n",
       "    .dataframe tbody tr th {\n",
       "        vertical-align: top;\n",
       "    }\n",
       "\n",
       "    .dataframe thead th {\n",
       "        text-align: right;\n",
       "    }\n",
       "</style>\n",
       "<table border=\"1\" class=\"dataframe\">\n",
       "  <thead>\n",
       "    <tr style=\"text-align: right;\">\n",
       "      <th></th>\n",
       "      <th>YearStart</th>\n",
       "      <th>LocationDesc</th>\n",
       "      <th>Data_Value</th>\n",
       "    </tr>\n",
       "  </thead>\n",
       "  <tbody>\n",
       "  </tbody>\n",
       "</table>\n",
       "</div>"
      ],
      "text/plain": [
       "Empty DataFrame\n",
       "Columns: [YearStart, LocationDesc, Data_Value]\n",
       "Index: []"
      ]
     },
     "execution_count": 4,
     "metadata": {},
     "output_type": "execute_result"
    }
   ],
   "source": [
    "# BMI rows only, keep relevant cols\n",
    "bmi_data = df[df[\"Question\"].str.contains(\"Body Mass Index\", case=False, na=False)].copy()\n",
    "bmi_data = bmi_data[[\"YearStart\", \"LocationDesc\", \"Data_Value\"]]\n",
    "\n",
    "# Make sure values are numeric\n",
    "bmi_data[\"Data_Value\"] = pd.to_numeric(bmi_data[\"Data_Value\"], errors=\"coerce\")\n",
    "bmi_data = bmi_data.dropna(subset=[\"Data_Value\"])\n",
    "bmi_data.head()"
   ]
  },
  {
   "cell_type": "markdown",
   "id": "5a4e36aa",
   "metadata": {},
   "source": [
    " Group & analyze"
   ]
  },
  {
   "cell_type": "code",
   "execution_count": 5,
   "id": "cfe1839d",
   "metadata": {},
   "outputs": [
    {
     "data": {
      "text/html": [
       "<div>\n",
       "<style scoped>\n",
       "    .dataframe tbody tr th:only-of-type {\n",
       "        vertical-align: middle;\n",
       "    }\n",
       "\n",
       "    .dataframe tbody tr th {\n",
       "        vertical-align: top;\n",
       "    }\n",
       "\n",
       "    .dataframe thead th {\n",
       "        text-align: right;\n",
       "    }\n",
       "</style>\n",
       "<table border=\"1\" class=\"dataframe\">\n",
       "  <thead>\n",
       "    <tr style=\"text-align: right;\">\n",
       "      <th></th>\n",
       "      <th>YearStart</th>\n",
       "      <th>LocationDesc</th>\n",
       "      <th>Data_Value</th>\n",
       "    </tr>\n",
       "  </thead>\n",
       "  <tbody>\n",
       "  </tbody>\n",
       "</table>\n",
       "</div>"
      ],
      "text/plain": [
       "Empty DataFrame\n",
       "Columns: [YearStart, LocationDesc, Data_Value]\n",
       "Index: []"
      ]
     },
     "execution_count": 5,
     "metadata": {},
     "output_type": "execute_result"
    }
   ],
   "source": [
    "# Average BMI by state and year\n",
    "bmi_summary = bmi_data.groupby(['YearStart', 'LocationDesc'])['Data_Value'].mean().reset_index()\n",
    "\n",
    "bmi_summary.head()\n",
    "\n",
    "bmi_data[\"LocationDesc\"].nunique(), (bmi_data[\"LocationDesc\"] == \"Minnesota\").sum()\n",
    "# peek a few rows for Minnesota\n",
    "bmi_data[bmi_data[\"LocationDesc\"] == \"Minnesota\"].head()"
   ]
  },
  {
   "cell_type": "markdown",
   "id": "5a6b06eb",
   "metadata": {},
   "source": [
    "Visualization"
   ]
  },
  {
   "cell_type": "code",
   "execution_count": 6,
   "id": "3b57ba66",
   "metadata": {},
   "outputs": [
    {
     "data": {
      "image/png": "[encoded data removed]",
      "text/plain": [
       "<Figure size 800x400 with 1 Axes>"
      ]
     },
     "metadata": {},
     "output_type": "display_data"
    }
   ],
   "source": [
    "import matplotlib.pyplot as plt\n",
    "\n",
    "state = \"Minnesota\"\n",
    "state_data = (\n",
    "    bmi_data[bmi_data[\"LocationDesc\"] == state]\n",
    "    .groupby(\"YearStart\", as_index=False)[\"Data_Value\"]\n",
    "    .mean()\n",
    "    .sort_values(\"YearStart\")\n",
    ")\n",
    "\n",
    "plt.figure(figsize=(8, 4))\n",
    "plt.plot(state_data[\"YearStart\"], state_data[\"Data_Value\"], label=f\"{state} CDC avg\", marker=\"o\")\n",
    "plt.axhline(my_bmi, color=\"red\", linestyle=\"--\", label=\"My BMI\")\n",
    "plt.title(f\"BMI in {state} vs. My BMI\")\n",
    "plt.xlabel(\"Year\")\n",
    "plt.ylabel(\"Value\")\n",
    "plt.grid(True)\n",
    "plt.legend()\n",
    "plt.show()"
   ]
  }
 ],
 "metadata": {
  "kernelspec": {
   "display_name": ".venv (3.13.6)",
   "language": "python",
   "name": "python3"
  },
  "language_info": {
   "codemirror_mode": {
    "name": "ipython",
    "version": 3
   },
   "file_extension": ".py",
   "mimetype": "text/x-python",
   "name": "python",
   "nbconvert_exporter": "python",
   "pygments_lexer": "ipython3",
   "version": "3.13.6"
  }
 },
 "nbformat": 4,
 "nbformat_minor": 5
}
